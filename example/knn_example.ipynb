{
 "cells": [
  {
   "cell_type": "code",
   "execution_count": 1,
   "metadata": {},
   "outputs": [],
   "source": [
    "import os\n",
    "import sys\n",
    "nb_dir = os.path.split(os.getcwd())[0]\n",
    "if nb_dir not in sys.path:\n",
    "    sys.path.append(nb_dir)"
   ]
  },
  {
   "cell_type": "markdown",
   "metadata": {},
   "source": [
    "### Reimlementation of KNN\n",
    "\n",
    "There are 3 available normalizing methods (\"none\", \"mean\" and \"baseline\"), 2 similarity measures (\"cosine\", \"pearson\").\n",
    "If you wish to use genome scores to calculate similarity, `genome` parameter need to be provided with genome score matrix."
   ]
  },
  {
   "cell_type": "code",
   "execution_count": 10,
   "metadata": {
    "tags": []
   },
   "outputs": [
    {
     "output_type": "stream",
     "name": "stdout",
     "text": [
      "Listing all users rated each item (or vice versa if iiCF) ...\n",
      "Computing similarity matrix ...\n",
      "Computing Pearson similarity matrix took 0 sec\n",
      "Predicting 2000 pairs of user-item ...\n",
      "Time for predicting: 0 sec\n",
      "RMSE: 1.02597\n",
      "MAE: 0.77753\n",
      "\n"
     ]
    }
   ],
   "source": [
    "import numpy as np\n",
    "\n",
    "from utils import DataLoader\n",
    "from knn import kNNBaseline\n",
    "\n",
    "# train_data, test_data = DataLoader(\"../../data\").load_csv2ndarray()\n",
    "train_data, test_data = DataLoader(\"../movielens10k\").load_csv2ndarray()\n",
    "\n",
    "baseline_options = {\n",
    "    'method': 'als',\n",
    "    'n_epochs': 10,\n",
    "    'reg_u': 10,\n",
    "    'reg_i': 15\n",
    "}\n",
    "\n",
    "# baseline_options = {\n",
    "#     'method': 'sgd',\n",
    "#     'n_epochs': 20,\n",
    "#     'learning_rate': 0.005,\n",
    "#     'regularization': 0.02\n",
    "# }\n",
    "\n",
    "knn = kNNBaseline(k=40, uuCF=False, verbose=True, awareness_constrain=True)\n",
    "knn.fit(train_data=train_data, similarity_measure=\"pearson\", baseline_options=baseline_options)\n",
    "\n",
    "knn.predict(test_data)\n",
    "\n",
    "knn.rmse()\n",
    "knn.mae()"
   ]
  },
  {
   "cell_type": "markdown",
   "metadata": {},
   "source": [
    "### KNN with mean normalization from NicolasHug/Surprise"
   ]
  },
  {
   "cell_type": "code",
   "execution_count": 7,
   "metadata": {
    "scrolled": true
   },
   "outputs": [
    {
     "output_type": "stream",
     "name": "stdout",
     "text": [
      "Estimating biases using als...\n",
      "Computing the pearson similarity matrix...\n",
      "Done computing similarity matrix.\n",
      "RMSE: 0.9932\n",
      "MAE:  0.7623\n",
      "1.4740982055664062\n"
     ]
    }
   ],
   "source": [
    "from surprise.prediction_algorithms.knns import KNNWithMeans, KNNBasic, KNNBaseline\n",
    "from surprise import Dataset\n",
    "from surprise import Reader\n",
    "from surprise import accuracy\n",
    "\n",
    "import pandas as pd\n",
    "import time\n",
    "\n",
    "\n",
    "# train = pd.read_csv('../../data/rating_train.csv').sort_values(by=[\"movieId\",\"userId\"])\n",
    "# test = pd.read_csv('../../data/rating_test.csv').sort_values(by=[\"movieId\",\"userId\"])\n",
    "train = pd.read_csv('../movielens10k/rating_train.csv').sort_values(by=[\"movieId\",\"userId\"])\n",
    "test = pd.read_csv('../movielens10k/rating_test.csv').sort_values(by=[\"movieId\",\"userId\"])\n",
    "\n",
    "reader = Reader(rating_scale=(0.5,5))\n",
    "train_set = Dataset.load_from_df(train[['userId','movieId','rating']],reader=reader)\n",
    "test_set = Dataset.load_from_df(test[['userId','movieId','rating']],reader=reader)\n",
    "\n",
    "trainset = train_set.build_full_trainset()\n",
    "testset = test_set.build_full_trainset().build_testset()\n",
    "\n",
    "# Config for surprise similarity function\n",
    "sim_options = {\n",
    "    'name': 'pearson',\n",
    "    'user_based': False\n",
    "}\n",
    "\n",
    "t1 = time.time()\n",
    "\n",
    "algo = KNNBaseline(k=40, sim_options=sim_options)\n",
    "algo.fit(trainset)\n",
    "\n",
    "predictions = algo.test(testset)\n",
    "accuracy.rmse(predictions)\n",
    "accuracy.mae(predictions)\n",
    "\n",
    "t2 = time.time()\n",
    "print(t2 - t1)"
   ]
  }
 ],
 "metadata": {
  "kernelspec": {
   "display_name": "Python 3 (ipykernel)",
   "language": "python",
   "name": "python3"
  },
  "language_info": {
   "codemirror_mode": {
    "name": "ipython",
    "version": 3
   },
   "file_extension": ".py",
   "mimetype": "text/x-python",
   "name": "python",
   "nbconvert_exporter": "python",
   "pygments_lexer": "ipython3",
   "version": "3.7.4"
  },
  "metadata": {
   "interpreter": {
    "hash": "f23968cc4c31a48a1c3523dea1ae7146a1276343ab4fd333c2e98f2978371b04"
   }
  }
 },
 "nbformat": 4,
 "nbformat_minor": 2
}