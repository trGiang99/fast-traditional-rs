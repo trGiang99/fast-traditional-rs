{
 "cells": [
  {
   "cell_type": "code",
   "execution_count": 2,
   "metadata": {},
   "outputs": [],
   "source": [
    "import os\n",
    "import sys\n",
    "nb_dir = os.path.split(os.getcwd())[0]\n",
    "if nb_dir not in sys.path:\n",
    "    sys.path.append(nb_dir)"
   ]
  },
  {
   "cell_type": "markdown",
   "metadata": {},
   "source": [
    "### Reimlementation of KNN\n",
    "\n",
    "There are 3 available normalizing methods (\"none\", \"mean\" and \"baseline\"), 2 similarity measures (\"cosine\", \"pearson\").\n",
    "If you wish to use genome scores to calculate similarity, `genome` parameter need to be provided with genome score matrix."
   ]
  },
  {
   "cell_type": "code",
   "execution_count": 3,
   "metadata": {
    "tags": []
   },
   "outputs": [
    {
     "name": "stdout",
     "output_type": "stream",
     "text": [
      "Normalizing the utility matrix ...\n",
      "Listing all users rated each item (or vice versa if iiCF) ...\n",
      "Computing similarity matrix ...\n"
     ]
    },
    {
     "name": "stderr",
     "output_type": "stream",
     "text": [
      "|                                                                        |   0%\r"
     ]
    },
    {
     "name": "stdout",
     "output_type": "stream",
     "text": [
      "Computing Pearson similarity matrix took 9 min and 5 sec\n",
      "Predicting 3957876 pairs of user-item ...\n"
     ]
    },
    {
     "name": "stderr",
     "output_type": "stream",
     "text": [
      "|########################################################################| 100%\n"
     ]
    },
    {
     "name": "stdout",
     "output_type": "stream",
     "text": [
      "Time for predicting: 4 min and 32 sec\n",
      "RMSE: 0.81296\n",
      "MAE: 0.61888\n"
     ]
    }
   ],
   "source": [
    "import numpy as np\n",
    "\n",
    "from utils import DataLoader\n",
    "from knn import kNN\n",
    "\n",
    "train_data, test_data = DataLoader(\"../../data\").load_csv2ndarray()\n",
    "\n",
    "knn = kNN(k=40, distance=\"pearson\", uuCF=False, normalize=\"baseline\", verbose=True, awareness_constrain=True)\n",
    "knn.fit(train_data=train_data)\n",
    "\n",
    "knn.predict(test_data)\n",
    "\n",
    "knn.rmse()\n",
    "knn.mae()"
   ]
  },
  {
   "cell_type": "markdown",
   "metadata": {},
   "source": [
    "### KNN with mean normalization from NicolasHug/Surprise"
   ]
  },
  {
   "cell_type": "code",
   "execution_count": 4,
   "metadata": {
    "scrolled": true
   },
   "outputs": [
    {
     "name": "stdout",
     "output_type": "stream",
     "text": [
      "Estimating biases using als...\n",
      "Computing the pearson similarity matrix...\n",
      "Done computing similarity matrix.\n",
      "RMSE: 0.8118\n",
      "MAE:  0.6178\n",
      "3166.620276451111\n"
     ]
    }
   ],
   "source": [
    "from surprise.prediction_algorithms.knns import KNNWithMeans, KNNBasic, KNNBaseline\n",
    "from surprise import Dataset\n",
    "from surprise import Reader\n",
    "from surprise import accuracy\n",
    "\n",
    "import pandas as pd\n",
    "import time\n",
    "\n",
    "\n",
    "train = pd.read_csv('../../data/rating_train.csv').sort_values(by=[\"movieId\",\"userId\"])\n",
    "test = pd.read_csv('../../data/rating_test.csv').sort_values(by=[\"movieId\",\"userId\"])\n",
    "\n",
    "reader = Reader(rating_scale=(0.5,5))\n",
    "train_set = Dataset.load_from_df(train[['userId','movieId','rating']],reader=reader)\n",
    "test_set = Dataset.load_from_df(test[['userId','movieId','rating']],reader=reader)\n",
    "\n",
    "trainset = train_set.build_full_trainset()\n",
    "testset = test_set.build_full_trainset().build_testset()\n",
    "\n",
    "# Config for surprise similarity function\n",
    "sim_options = {\n",
    "    'name': 'pearson',\n",
    "    'user_based': False\n",
    "}\n",
    "\n",
    "t1 = time.time()\n",
    "\n",
    "algo = KNNBaseline(k=40, sim_options=sim_options)\n",
    "algo.fit(trainset)\n",
    "\n",
    "predictions = algo.test(testset)\n",
    "accuracy.rmse(predictions)\n",
    "accuracy.mae(predictions)\n",
    "\n",
    "t2 = time.time()\n",
    "print(t2 - t1)"
   ]
  }
 ],
 "metadata": {
  "kernelspec": {
   "display_name": "Python 3",
   "language": "python",
   "name": "python3"
  },
  "language_info": {
   "codemirror_mode": {
    "name": "ipython",
    "version": 3
   },
   "file_extension": ".py",
   "mimetype": "text/x-python",
   "name": "python",
   "nbconvert_exporter": "python",
   "pygments_lexer": "ipython3",
   "version": "3.9.4"
  },
  "metadata": {
   "interpreter": {
    "hash": "f23968cc4c31a48a1c3523dea1ae7146a1276343ab4fd333c2e98f2978371b04"
   }
  }
 },
 "nbformat": 4,
 "nbformat_minor": 2
}
