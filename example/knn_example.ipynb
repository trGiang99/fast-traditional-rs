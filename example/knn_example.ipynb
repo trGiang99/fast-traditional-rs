{
 "metadata": {
  "language_info": {
   "codemirror_mode": {
    "name": "ipython",
    "version": 3
   },
   "file_extension": ".py",
   "mimetype": "text/x-python",
   "name": "python",
   "nbconvert_exporter": "python",
   "pygments_lexer": "ipython3",
   "version": "3.9.3"
  },
  "orig_nbformat": 2,
  "kernelspec": {
   "name": "python393jvsc74a57bd0f23968cc4c31a48a1c3523dea1ae7146a1276343ab4fd333c2e98f2978371b04",
   "display_name": "Python 3.9.3 64-bit ('env')"
  },
  "metadata": {
   "interpreter": {
    "hash": "f23968cc4c31a48a1c3523dea1ae7146a1276343ab4fd333c2e98f2978371b04"
   }
  }
 },
 "nbformat": 4,
 "nbformat_minor": 2,
 "cells": [
  {
   "cell_type": "code",
   "execution_count": 11,
   "metadata": {},
   "outputs": [],
   "source": [
    "import os\n",
    "import sys\n",
    "nb_dir = os.path.split(os.getcwd())[0]\n",
    "if nb_dir not in sys.path:\n",
    "    sys.path.append(nb_dir)"
   ]
  },
  {
   "source": [
    "### Reimlementation of KNN\n",
    "\n",
    "There are 3 available normalizing methods (\"none\", \"mean\" and \"baseline\"), 2 similarity measures (\"cosine\", \"pearson\").\n",
    "If you wish to use genome scores to calculate similarity, `genome` parameter need to be provided with genome score matrix."
   ],
   "cell_type": "markdown",
   "metadata": {}
  },
  {
   "cell_type": "code",
   "execution_count": 14,
   "metadata": {
    "tags": []
   },
   "outputs": [
    {
     "output_type": "stream",
     "name": "stdout",
     "text": [
      "Normalizing the utility matrix ...\n",
      "Listing all users rated each item (or vice versa if iiCF) ...\n",
      "Computing similarity matrix ...\n",
      "Predicting 2000 pairs of user-item ...\n",
      "Time for predicting: 1 sec\n",
      "RMSE: 1.06212\n",
      "MAE: 0.83180\n",
      "\n"
     ]
    }
   ],
   "source": [
    "import numpy as np\n",
    "\n",
    "from utils import DataLoader\n",
    "from knn import kNN\n",
    "\n",
    "train_data, test_data = DataLoader(\"../movielens10k\").load_csv2ndarray()\n",
    "\n",
    "knn = kNN(k=10, distance=\"pearson\", uuCF=1, normalize=\"baseline\", verbose=True)\n",
    "knn.fit(train_data=train_data)\n",
    "\n",
    "knn.predict(test_data)\n",
    "\n",
    "knn.rmse()\n",
    "knn.mae()"
   ]
  },
  {
   "source": [
    "### KNN with mean normalization from NicolasHug/Surprise"
   ],
   "cell_type": "markdown",
   "metadata": {}
  },
  {
   "cell_type": "code",
   "execution_count": 19,
   "metadata": {},
   "outputs": [
    {
     "output_type": "stream",
     "name": "stdout",
     "text": [
      "Estimating biases using als...\nComputing the pearson similarity matrix...\nDone computing similarity matrix.\nRMSE: 1.0614\n"
     ]
    },
    {
     "output_type": "execute_result",
     "data": {
      "text/plain": [
       "1.0614047912102296"
      ]
     },
     "metadata": {},
     "execution_count": 19
    }
   ],
   "source": [
    "from surprise.prediction_algorithms.knns import KNNWithMeans, KNNBasic, KNNBaseline\n",
    "from surprise import Dataset\n",
    "from surprise import Reader\n",
    "from surprise import accuracy\n",
    "from surprise.model_selection import train_test_split\n",
    "\n",
    "\n",
    "file_path = \"../movielens10k/rating.csv\"\n",
    "reader = Reader(line_format='user item rating timestamp', sep=\",\", skip_lines=1)\n",
    "data = Dataset.load_from_file(file_path, reader=reader)\n",
    "\n",
    "trainset, testset = train_test_split(data, test_size=.2)\n",
    "\n",
    "# Config for surprise similarity function\n",
    "sim_options = {\n",
    "    'name': 'pearson',\n",
    "    'user_based': True\n",
    "}\n",
    "\n",
    "algo = KNNBaseline(k=10, sim_options=sim_options)\n",
    "algo.fit(trainset)\n",
    "\n",
    "predictions = algo.test(testset)\n",
    "accuracy.rmse(predictions)"
   ]
  },
  {
   "cell_type": "code",
   "execution_count": 21,
   "metadata": {},
   "outputs": [],
   "source": [
    "import pandas as pd\n",
    "combined_csv = pd.concat([\n",
    "    pd.read_csv(\"movielens10k/rating_train.csv\", header=None),\n",
    "    pd.read_csv(\"movielens10k/rating_test.csv\", header=None), \n",
    "    pd.read_csv(\"movielens10k/rating_val.csv\", header=None)\n",
    "])\n",
    "#export to csv\n",
    "combined_csv.to_csv(\"movielens10k/rating.csv\", index=False, encoding='utf-8', header=None)"
   ]
  }
 ]
}