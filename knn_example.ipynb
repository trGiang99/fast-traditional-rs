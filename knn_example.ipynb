{
 "metadata": {
  "language_info": {
   "codemirror_mode": {
    "name": "ipython",
    "version": 3
   },
   "file_extension": ".py",
   "mimetype": "text/x-python",
   "name": "python",
   "nbconvert_exporter": "python",
   "pygments_lexer": "ipython3",
   "version": "3.7.4-final"
  },
  "orig_nbformat": 2,
  "kernelspec": {
   "name": "python_defaultSpec_1600240236339",
   "display_name": "Python 3.7.4 64-bit ('env': venv)"
  }
 },
 "nbformat": 4,
 "nbformat_minor": 2,
 "cells": [
  {
   "cell_type": "code",
   "execution_count": 2,
   "metadata": {
    "tags": []
   },
   "outputs": [],
   "source": [
    "import numpy as np\n",
    "\n",
    "from DataLoader import DataLoader\n",
    "from neighborhoodBased import kNN"
   ]
  },
  {
   "source": [
    "Reimlementation of KNN with mean normalization"
   ],
   "cell_type": "markdown",
   "metadata": {}
  },
  {
   "cell_type": "code",
   "execution_count": null,
   "metadata": {},
   "outputs": [],
   "source": [
    "train_data, test_data = DataLoader(\"movielens-sample\").load_sparse()\n",
    "\n",
    "knn = kNN(data=train_data, k=5, distance=\"cosine\", uuCF=1, normalize=\"mean\")\n",
    "knn.fit()\n",
    "print (f'\\nRMSE: {knn.rmse(test_data)}')"
   ]
  },
  {
   "source": [
    "KNN with mean normalization from NicolasHug/Surprise"
   ],
   "cell_type": "markdown",
   "metadata": {}
  },
  {
   "cell_type": "code",
   "execution_count": null,
   "metadata": {},
   "outputs": [],
   "source": [
    "from surprise.prediction_algorithms.knns import KNNWithMeans\n",
    "from surprise import Dataset\n",
    "from surprise import Reader\n",
    "from surprise import accuracy\n",
    "from surprise.model_selection import train_test_split\n",
    "\n",
    "\n",
    "file_path = \"movielens-sample/rating.csv\"\n",
    "reader = Reader(line_format='user item rating timestamp', sep=\",\", skip_lines=1)\n",
    "data = Dataset.load_from_file(file_path, reader=reader)\n",
    "\n",
    "trainset, testset = train_test_split(data, test_size=.2)\n",
    "\n",
    "# Config for surprise similarity function\n",
    "sim_options = {\n",
    "    'name': 'cosine',\n",
    "    'user_based': True\n",
    "}\n",
    "\n",
    "algo = KNNWithMeans(k=5, sim_options=sim_options)\n",
    "algo.fit(trainset)\n",
    "\n",
    "predictions = algo.test(testset)\n",
    "accuracy.rmse(predictions)"
   ]
  }
 ]
}