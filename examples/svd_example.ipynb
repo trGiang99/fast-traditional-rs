{
 "metadata": {
  "language_info": {
   "codemirror_mode": {
    "name": "ipython",
    "version": 3
   },
   "file_extension": ".py",
   "mimetype": "text/x-python",
   "name": "python",
   "nbconvert_exporter": "python",
   "pygments_lexer": "ipython3",
   "version": "3.7.4-final"
  },
  "orig_nbformat": 2,
  "kernelspec": {
   "name": "python3",
   "display_name": "Python 3 (ipykernel)",
   "language": "python"
  }
 },
 "nbformat": 4,
 "nbformat_minor": 2,
 "cells": [
  {
   "cell_type": "code",
   "execution_count": 1,
   "metadata": {},
   "outputs": [],
   "source": [
    "import os\n",
    "import sys\n",
    "nb_dir = os.path.split(os.getcwd())[0]\n",
    "if nb_dir not in sys.path:\n",
    "    sys.path.append(nb_dir)"
   ]
  },
  {
   "source": [
    "### Reimlementation of SVD"
   ],
   "cell_type": "markdown",
   "metadata": {}
  },
  {
   "cell_type": "code",
   "execution_count": 2,
   "metadata": {},
   "outputs": [],
   "source": [
    "from math import sqrt\n",
    "from sklearn.metrics import mean_squared_error\n",
    "from sklearn.metrics import mean_absolute_error\n",
    "\n",
    "from utils import DataLoader\n",
    "from matrix_factorization import SVD\n",
    "\n",
    "# train_set, test_set = DataLoader(\"../../data\").load_csv2ndarray()\n",
    "train_set, test_set = DataLoader(\"../movielens100k\").load_csv2ndarray()"
   ]
  },
  {
   "cell_type": "code",
   "execution_count": 3,
   "metadata": {},
   "outputs": [
    {
     "output_type": "stream",
     "name": "stdout",
     "text": [
      "Start training...\n",
      "Epoch 1/31  | train_loss: 0.98532 - val_loss: 0.91740 - val_rmse: 0.95781 - val_mae: 0.75721 - took 1.44 sec\n",
      "Epoch 2/31  | train_loss: 0.88176 - val_loss: 0.87834 - val_rmse: 0.93720 - val_mae: 0.73378 - took 0.01 sec\n",
      "Epoch 3/31  | train_loss: 0.84073 - val_loss: 0.85982 - val_rmse: 0.92726 - val_mae: 0.72300 - took 0.01 sec\n",
      "Epoch 4/31  | train_loss: 0.81460 - val_loss: 0.84875 - val_rmse: 0.92128 - val_mae: 0.71680 - took 0.01 sec\n",
      "Epoch 5/31  | train_loss: 0.79496 - val_loss: 0.84129 - val_rmse: 0.91722 - val_mae: 0.71274 - took 0.01 sec\n",
      "Epoch 6/31  | train_loss: 0.77879 - val_loss: 0.83586 - val_rmse: 0.91425 - val_mae: 0.70986 - took 0.01 sec\n",
      "Epoch 7/31  | train_loss: 0.76464 - val_loss: 0.83171 - val_rmse: 0.91198 - val_mae: 0.70768 - took 0.01 sec\n",
      "Epoch 8/31  | train_loss: 0.75169 - val_loss: 0.82842 - val_rmse: 0.91018 - val_mae: 0.70600 - took 0.01 sec\n",
      "Epoch 9/31  | train_loss: 0.73944 - val_loss: 0.82573 - val_rmse: 0.90870 - val_mae: 0.70465 - took 0.01 sec\n",
      "Epoch 10/31 | train_loss: 0.72752 - val_loss: 0.82349 - val_rmse: 0.90747 - val_mae: 0.70354 - took 0.01 sec\n",
      "Epoch 11/31 | train_loss: 0.71565 - val_loss: 0.82159 - val_rmse: 0.90642 - val_mae: 0.70263 - took 0.01 sec\n",
      "Epoch 12/31 | train_loss: 0.70363 - val_loss: 0.81994 - val_rmse: 0.90551 - val_mae: 0.70182 - took 0.01 sec\n",
      "Epoch 13/31 | train_loss: 0.69127 - val_loss: 0.81850 - val_rmse: 0.90471 - val_mae: 0.70112 - took 0.01 sec\n",
      "Epoch 14/31 | train_loss: 0.67845 - val_loss: 0.81721 - val_rmse: 0.90400 - val_mae: 0.70049 - took 0.01 sec\n",
      "Epoch 15/31 | train_loss: 0.66506 - val_loss: 0.81607 - val_rmse: 0.90337 - val_mae: 0.69993 - took 0.01 sec\n",
      "Epoch 16/31 | train_loss: 0.65107 - val_loss: 0.81505 - val_rmse: 0.90280 - val_mae: 0.69942 - took 0.01 sec\n",
      "Epoch 17/31 | train_loss: 0.63643 - val_loss: 0.81415 - val_rmse: 0.90230 - val_mae: 0.69896 - took 0.01 sec\n",
      "Epoch 18/31 | train_loss: 0.62119 - val_loss: 0.81337 - val_rmse: 0.90187 - val_mae: 0.69854 - took 0.01 sec\n",
      "Epoch 19/31 | train_loss: 0.60540 - val_loss: 0.81273 - val_rmse: 0.90151 - val_mae: 0.69814 - took 0.01 sec\n",
      "Epoch 20/31 | train_loss: 0.58915 - val_loss: 0.81224 - val_rmse: 0.90124 - val_mae: 0.69779 - took 0.01 sec\n",
      "Epoch 21/31 | train_loss: 0.57255 - val_loss: 0.81191 - val_rmse: 0.90106 - val_mae: 0.69751 - took 0.01 sec\n",
      "Epoch 22/31 | train_loss: 0.55572 - val_loss: 0.81176 - val_rmse: 0.90098 - val_mae: 0.69728 - took 0.01 sec\n",
      "Epoch 23/31 | train_loss: 0.53879 - val_loss: 0.81179 - val_rmse: 0.90100 - val_mae: 0.69713 - took 0.01 sec\n",
      "Epoch 24/31 | train_loss: 0.52185 - val_loss: 0.81202 - val_rmse: 0.90112 - val_mae: 0.69706 - took 0.01 sec\n",
      "Epoch 25/31 | train_loss: 0.50503 - val_loss: 0.81244 - val_rmse: 0.90136 - val_mae: 0.69710 - took 0.01 sec\n",
      "Epoch 26/31 | train_loss: 0.48841 - val_loss: 0.81305 - val_rmse: 0.90170 - val_mae: 0.69723 - took 0.01 sec\n",
      "Epoch 27/31 | train_loss: 0.47206 - val_loss: 0.81385 - val_rmse: 0.90214 - val_mae: 0.69745 - took 0.01 sec\n",
      "Epoch 28/31 | train_loss: 0.45605 - val_loss: 0.81483 - val_rmse: 0.90268 - val_mae: 0.69773 - took 0.01 sec\n",
      "Epoch 29/31 | train_loss: 0.44043 - val_loss: 0.81598 - val_rmse: 0.90332 - val_mae: 0.69810 - took 0.01 sec\n",
      "Epoch 30/31 | train_loss: 0.42525 - val_loss: 0.81729 - val_rmse: 0.90404 - val_mae: 0.69855 - took 0.01 sec\n",
      "Epoch 31/31 | train_loss: 0.41054 - val_loss: 0.81874 - val_rmse: 0.90484 - val_mae: 0.69909 - took 0.01 sec\n",
      "Done.\n",
      "\n",
      "Training took 2 sec\n",
      "RMSE: 0.90450\n",
      "MAE: 0.69856\n",
      "Precision: 0.70139\n",
      "Recall: 0.60799\n"
     ]
    }
   ],
   "source": [
    "nfactors = 40\n",
    "\n",
    "svd = SVD(\n",
    "    learning_rate=0.005,\n",
    "    regularization=0.02,\n",
    "    n_epochs=31, n_factors=nfactors,\n",
    "    min_rating=0.5, max_rating=5\n",
    ")\n",
    "\n",
    "svd.fit(\n",
    "    X=train_set,\n",
    "    X_val=test_set,\n",
    "    early_stopping=False, shuffle=False\n",
    ")\n",
    "\n",
    "svd.predict(test_set)\n",
    "svd.rmse()\n",
    "svd.mae()\n",
    "svd.precision_recall_at_k(k=20)"
   ]
  },
  {
   "source": [
    "### SVD from NicolasHug/Surprise"
   ],
   "cell_type": "markdown",
   "metadata": {}
  },
  {
   "cell_type": "code",
   "execution_count": 4,
   "metadata": {},
   "outputs": [
    {
     "output_type": "stream",
     "name": "stdout",
     "text": [
      "RMSE: 0.9049\nMAE:  0.6984\n3.884911060333252\n"
     ]
    }
   ],
   "source": [
    "from surprise.prediction_algorithms import matrix_factorization\n",
    "from surprise import Dataset\n",
    "from surprise import Reader\n",
    "from surprise import accuracy\n",
    "\n",
    "import pandas as pd\n",
    "import time\n",
    "\n",
    "\n",
    "# train = pd.read_csv('../../data/rating_train.csv')\n",
    "# test = pd.read_csv('../../data/rating_test.csv')\n",
    "train = pd.read_csv('../movielens100k/rating_train.csv')\n",
    "test = pd.read_csv('../movielens100k/rating_test.csv')\n",
    "\n",
    "reader = Reader(rating_scale=(0.5,5))\n",
    "train_set = Dataset.load_from_df(train[['userId','movieId','rating']],reader=reader)\n",
    "test_set = Dataset.load_from_df(test[['userId','movieId','rating']],reader=reader)\n",
    "\n",
    "trainset = train_set.build_full_trainset()\n",
    "testset = test_set.build_full_trainset().build_testset()\n",
    "\n",
    "t1 = time.time()\n",
    "\n",
    "algo = matrix_factorization.SVD(n_factors=40, n_epochs=31)\n",
    "algo.fit(trainset)\n",
    "\n",
    "predictions = algo.test(testset)\n",
    "accuracy.rmse(predictions)\n",
    "accuracy.mae(predictions)\n",
    "\n",
    "t2 = time.time()\n",
    "print(t2 - t1)"
   ]
  }
 ]
}