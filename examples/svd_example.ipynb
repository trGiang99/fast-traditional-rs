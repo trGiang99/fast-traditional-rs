{
 "metadata": {
  "language_info": {
   "codemirror_mode": {
    "name": "ipython",
    "version": 3
   },
   "file_extension": ".py",
   "mimetype": "text/x-python",
   "name": "python",
   "nbconvert_exporter": "python",
   "pygments_lexer": "ipython3",
   "version": "3.7.4"
  },
  "orig_nbformat": 2,
  "kernelspec": {
   "name": "python3",
   "display_name": "Python 3.7.4 64-bit",
   "metadata": {
    "interpreter": {
     "hash": "21463fdfd04a8a485a54879021fcd21da1301dbfc4fefd04d0e18ba174845e58"
    }
   }
  }
 },
 "nbformat": 4,
 "nbformat_minor": 2,
 "cells": [
  {
   "cell_type": "code",
   "execution_count": 1,
   "metadata": {},
   "outputs": [],
   "source": [
    "import os\n",
    "import sys\n",
    "nb_dir = os.path.split(os.getcwd())[0]\n",
    "if nb_dir not in sys.path:\n",
    "    sys.path.append(nb_dir)"
   ]
  },
  {
   "source": [
    "### Reimlementation of SVD"
   ],
   "cell_type": "markdown",
   "metadata": {}
  },
  {
   "cell_type": "code",
   "execution_count": 23,
   "metadata": {},
   "outputs": [],
   "source": [
    "from math import sqrt\n",
    "from sklearn.metrics import mean_squared_error\n",
    "from sklearn.metrics import mean_absolute_error\n",
    "\n",
    "from utils import DataLoader\n",
    "from matrix_factorization import SVD\n",
    "\n",
    "# train_set, test_set = DataLoader(\"../../data\").load_csv2ndarray()\n",
    "train_set, test_set = DataLoader(\"../movielens100k\").load_csv2ndarray()"
   ]
  },
  {
   "cell_type": "code",
   "execution_count": 27,
   "metadata": {},
   "outputs": [
    {
     "output_type": "stream",
     "name": "stdout",
     "text": [
      "Start training...\n",
      "Epoch 1/31  | train_loss: 0.98507 - val_loss: 0.91726 - val_rmse: 0.95774 - val_mae: 0.75672 - took 0.01 sec\n",
      "Epoch 2/31  | train_loss: 0.88181 - val_loss: 0.87803 - val_rmse: 0.93703 - val_mae: 0.73345 - took 0.01 sec\n",
      "Epoch 3/31  | train_loss: 0.84095 - val_loss: 0.85936 - val_rmse: 0.92702 - val_mae: 0.72274 - took 0.01 sec\n",
      "Epoch 4/31  | train_loss: 0.81497 - val_loss: 0.84818 - val_rmse: 0.92096 - val_mae: 0.71655 - took 0.01 sec\n",
      "Epoch 5/31  | train_loss: 0.79547 - val_loss: 0.84062 - val_rmse: 0.91685 - val_mae: 0.71252 - took 0.01 sec\n",
      "Epoch 6/31  | train_loss: 0.77945 - val_loss: 0.83513 - val_rmse: 0.91385 - val_mae: 0.70962 - took 0.01 sec\n",
      "Epoch 7/31  | train_loss: 0.76546 - val_loss: 0.83092 - val_rmse: 0.91155 - val_mae: 0.70746 - took 0.01 sec\n",
      "Epoch 8/31  | train_loss: 0.75271 - val_loss: 0.82758 - val_rmse: 0.90972 - val_mae: 0.70580 - took 0.01 sec\n",
      "Epoch 9/31  | train_loss: 0.74068 - val_loss: 0.82486 - val_rmse: 0.90822 - val_mae: 0.70445 - took 0.01 sec\n",
      "Epoch 10/31 | train_loss: 0.72901 - val_loss: 0.82258 - val_rmse: 0.90696 - val_mae: 0.70335 - took 0.01 sec\n",
      "Epoch 11/31 | train_loss: 0.71743 - val_loss: 0.82065 - val_rmse: 0.90590 - val_mae: 0.70243 - took 0.02 sec\n",
      "Epoch 12/31 | train_loss: 0.70573 - val_loss: 0.81898 - val_rmse: 0.90498 - val_mae: 0.70165 - took 0.01 sec\n",
      "Epoch 13/31 | train_loss: 0.69373 - val_loss: 0.81752 - val_rmse: 0.90417 - val_mae: 0.70097 - took 0.01 sec\n",
      "Epoch 14/31 | train_loss: 0.68129 - val_loss: 0.81621 - val_rmse: 0.90345 - val_mae: 0.70037 - took 0.02 sec\n",
      "Epoch 15/31 | train_loss: 0.66829 - val_loss: 0.81504 - val_rmse: 0.90280 - val_mae: 0.69984 - took 0.01 sec\n",
      "Epoch 16/31 | train_loss: 0.65465 - val_loss: 0.81398 - val_rmse: 0.90221 - val_mae: 0.69936 - took 0.01 sec\n",
      "Epoch 17/31 | train_loss: 0.64033 - val_loss: 0.81302 - val_rmse: 0.90168 - val_mae: 0.69891 - took 0.01 sec\n",
      "Epoch 18/31 | train_loss: 0.62532 - val_loss: 0.81215 - val_rmse: 0.90120 - val_mae: 0.69848 - took 0.01 sec\n",
      "Epoch 19/31 | train_loss: 0.60966 - val_loss: 0.81139 - val_rmse: 0.90077 - val_mae: 0.69808 - took 0.01 sec\n",
      "Epoch 20/31 | train_loss: 0.59341 - val_loss: 0.81074 - val_rmse: 0.90041 - val_mae: 0.69770 - took 0.02 sec\n",
      "Epoch 21/31 | train_loss: 0.57670 - val_loss: 0.81023 - val_rmse: 0.90013 - val_mae: 0.69737 - took 0.01 sec\n",
      "Epoch 22/31 | train_loss: 0.55964 - val_loss: 0.80987 - val_rmse: 0.89993 - val_mae: 0.69711 - took 0.01 sec\n",
      "Epoch 23/31 | train_loss: 0.54240 - val_loss: 0.80968 - val_rmse: 0.89982 - val_mae: 0.69692 - took 0.03 sec\n",
      "Epoch 24/31 | train_loss: 0.52511 - val_loss: 0.80969 - val_rmse: 0.89983 - val_mae: 0.69679 - took 0.01 sec\n",
      "Epoch 25/31 | train_loss: 0.50792 - val_loss: 0.80990 - val_rmse: 0.89994 - val_mae: 0.69673 - took 0.01 sec\n",
      "Epoch 26/31 | train_loss: 0.49094 - val_loss: 0.81031 - val_rmse: 0.90017 - val_mae: 0.69676 - took 0.01 sec\n",
      "Epoch 27/31 | train_loss: 0.47427 - val_loss: 0.81094 - val_rmse: 0.90052 - val_mae: 0.69689 - took 0.01 sec\n",
      "Epoch 28/31 | train_loss: 0.45799 - val_loss: 0.81177 - val_rmse: 0.90098 - val_mae: 0.69714 - took 0.01 sec\n",
      "Epoch 29/31 | train_loss: 0.44215 - val_loss: 0.81279 - val_rmse: 0.90155 - val_mae: 0.69750 - took 0.01 sec\n",
      "Epoch 30/31 | train_loss: 0.42679 - val_loss: 0.81401 - val_rmse: 0.90222 - val_mae: 0.69794 - took 0.01 sec\n",
      "Epoch 31/31 | train_loss: 0.41193 - val_loss: 0.81539 - val_rmse: 0.90299 - val_mae: 0.69843 - took 0.01 sec\n",
      "Done.\n",
      "\n",
      "Training took 0 sec\n",
      "\n",
      "Test RMSE: 0.90267\n",
      "Test MAE: 0.69806\n"
     ]
    }
   ],
   "source": [
    "nfactors = 40\n",
    "\n",
    "svd = SVD(\n",
    "    learning_rate=0.005,\n",
    "    regularization=0.02,\n",
    "    n_epochs=31, n_factors=nfactors,\n",
    "    min_rating=0.5, max_rating=5\n",
    ")\n",
    "\n",
    "svd.fit(\n",
    "    X=train_set,\n",
    "    X_val=test_set,\n",
    "    early_stopping=False, shuffle=False\n",
    ")\n",
    "\n",
    "pred = svd.predict(test_set)\n",
    "rmse = sqrt(mean_squared_error(test_set[:, 2], pred))\n",
    "mae = mean_absolute_error(test_set[:, 2], pred)\n",
    "\n",
    "print(f'\\nTest RMSE: {rmse:.5f}')\n",
    "print(f'Test MAE: {mae:.5f}')"
   ]
  },
  {
   "source": [
    "### SVD from NicolasHug/Surprise"
   ],
   "cell_type": "markdown",
   "metadata": {}
  },
  {
   "cell_type": "code",
   "execution_count": 21,
   "metadata": {},
   "outputs": [
    {
     "output_type": "stream",
     "name": "stdout",
     "text": [
      "RMSE: 0.8993\nMAE:  0.6965\n4.811099052429199\n"
     ]
    }
   ],
   "source": [
    "from surprise.prediction_algorithms import matrix_factorization\n",
    "from surprise import Dataset\n",
    "from surprise import Reader\n",
    "from surprise import accuracy\n",
    "\n",
    "import pandas as pd\n",
    "import time\n",
    "\n",
    "\n",
    "# train = pd.read_csv('../../data/rating_train.csv')\n",
    "# test = pd.read_csv('../../data/rating_test.csv')\n",
    "train = pd.read_csv('../movielens100k/rating_train.csv')\n",
    "test = pd.read_csv('../movielens100k/rating_test.csv')\n",
    "\n",
    "reader = Reader(rating_scale=(0.5,5))\n",
    "train_set = Dataset.load_from_df(train[['userId','movieId','rating']],reader=reader)\n",
    "test_set = Dataset.load_from_df(test[['userId','movieId','rating']],reader=reader)\n",
    "\n",
    "trainset = train_set.build_full_trainset()\n",
    "testset = test_set.build_full_trainset().build_testset()\n",
    "\n",
    "t1 = time.time()\n",
    "\n",
    "algo = matrix_factorization.SVD(n_factors=40, n_epochs=31)\n",
    "algo.fit(trainset)\n",
    "\n",
    "predictions = algo.test(testset)\n",
    "accuracy.rmse(predictions)\n",
    "accuracy.mae(predictions)\n",
    "\n",
    "t2 = time.time()\n",
    "print(t2 - t1)"
   ]
  }
 ]
}