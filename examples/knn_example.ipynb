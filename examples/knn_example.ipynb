{
 "cells": [
  {
   "cell_type": "code",
   "execution_count": 1,
   "metadata": {},
   "outputs": [],
   "source": [
    "import os\n",
    "import sys\n",
    "nb_dir = os.path.split(os.getcwd())[0]\n",
    "if nb_dir not in sys.path:\n",
    "    sys.path.append(nb_dir)"
   ]
  },
  {
   "cell_type": "markdown",
   "metadata": {},
   "source": [
    "### Reimlementation of KNN\n",
    "\n",
    "There are 3 kNN models available (\"kNN\", \"kNNwithMean\" and \"kNNBaseline\"), 2 similarity measures (\"cosine\", \"pearson\").\n",
    "If you wish to use genome scores to calculate similarity, `genome` parameter need to be provided with genome score matrix."
   ]
  },
  {
   "cell_type": "code",
   "execution_count": 2,
   "metadata": {},
   "outputs": [
    {
     "output_type": "stream",
     "name": "stdout",
     "text": [
      "Listing all users rated each item, and all items rated by each user ...\n",
      "Listing took 0 sec\n",
      "Epoch 0: val_loss: 0.81271 - val_rmse: 0.90150 - val_mae: 0.69939\n",
      "Epoch 1: val_loss: 0.81195 - val_rmse: 0.90108 - val_mae: 0.69893\n",
      "Epoch 2: val_loss: 0.81149 - val_rmse: 0.90083 - val_mae: 0.69863\n",
      "Epoch 3: val_loss: 0.81108 - val_rmse: 0.90060 - val_mae: 0.69839\n",
      "Epoch 4: val_loss: 0.81083 - val_rmse: 0.90046 - val_mae: 0.69825\n",
      "Epoch 5: val_loss: 0.81068 - val_rmse: 0.90038 - val_mae: 0.69816\n",
      "Epoch 6: val_loss: 0.81059 - val_rmse: 0.90033 - val_mae: 0.69810\n",
      "Epoch 7: val_loss: 0.81053 - val_rmse: 0.90030 - val_mae: 0.69807\n",
      "Epoch 8: val_loss: 0.81050 - val_rmse: 0.90028 - val_mae: 0.69805\n",
      "Epoch 9: val_loss: 0.81048 - val_rmse: 0.90027 - val_mae: 0.69804\n",
      "Time for computing the baseline estimate: 3 sec\n"
     ]
    }
   ],
   "source": [
    "from utils import DataLoader\n",
    "from knn import Baseline\n",
    "\n",
    "# train_set, test_set = DataLoader(\"../../data\").load_csv2ndarray()\n",
    "train_set, test_set = DataLoader(\"../movielens100k\").load_csv2ndarray()\n",
    "\n",
    "# default\n",
    "baseline_options = {\n",
    "    'method': 'als',\n",
    "    'n_epochs': 10,\n",
    "    'reg_u': 15,\n",
    "    'reg_i': 10\n",
    "}\n",
    "\n",
    "# baseline_options = {\n",
    "#     'method': 'sgd',\n",
    "#     'n_epochs': 20,\n",
    "#     'learning_rate': 0.005,\n",
    "#     'regularization': 0.02\n",
    "# }\n",
    "\n",
    "baseline_model = Baseline()\n",
    "baseline_model.fit(train_set=train_set, val_set=test_set, baseline_options=baseline_options)"
   ]
  },
  {
   "cell_type": "code",
   "execution_count": 2,
   "metadata": {
    "tags": []
   },
   "outputs": [
    {
     "output_type": "stream",
     "name": "stdout",
     "text": [
      "Listing all users rated each item, and all items rated by each user ...\n",
      "Listing took 0 sec\n",
      "Time for computing the baseline estimate: 2 sec\n",
      "Computing similarity matrix ...\n",
      "Computing Pearson Baseline similarity matrix took 3 sec\n",
      "Predicting 20000 pairs of user-item with k=20 ...\n",
      "\n",
      "Time for predicting: 2 sec\n",
      "RMSE: 0.88581\n",
      "MAE: 0.67993\n",
      "Precision: 0.70673\n",
      "Recall: 0.61788\n"
     ]
    }
   ],
   "source": [
    "from utils import DataLoader\n",
    "from knn import kNNBaseline, kNNwithMean, kNN\n",
    "\n",
    "# train_set, test_set = DataLoader(\"../../data\").load_csv2ndarray()\n",
    "train_set, test_set = DataLoader(\"../movielens100k\").load_csv2ndarray()\n",
    "\n",
    "# default\n",
    "baseline_options = {\n",
    "    'method': 'als',\n",
    "    'n_epochs': 10,\n",
    "    'reg_u': 15,\n",
    "    'reg_i': 10\n",
    "}\n",
    "\n",
    "# baseline_options = {\n",
    "#     'method': 'sgd',\n",
    "#     'n_epochs': 20,\n",
    "#     'learning_rate': 0.005,\n",
    "#     'regularization': 0.02\n",
    "# }\n",
    "\n",
    "knn = kNNBaseline(uuCF=False, verbose=True, awareness_constrain=False)\n",
    "knn.fit(train_set=train_set, similarity_measure=\"pearson_baseline\", baseline_options=baseline_options)\n",
    "\n",
    "# knn = kNNwithMean(uuCF=False, verbose=True, awareness_constrain=False)\n",
    "# knn.fit(train_set=train_set, similarity_measure=\"pearson\")\n",
    "\n",
    "knn.predict(test_set, k=20)\n",
    "\n",
    "knn.rmse()\n",
    "knn.mae()\n",
    "knn.precision_recall_at_k(k=20)"
   ]
  },
  {
   "cell_type": "code",
   "execution_count": 7,
   "metadata": {},
   "outputs": [
    {
     "output_type": "stream",
     "name": "stderr",
     "text": [
      "Predicting 20000 pairs of user-item with k=30 ...\n",
      "Time for predicting: 1 sec\n",
      "RMSE: 0.88453\n",
      "MAE: 0.67963\n",
      "\n"
     ]
    }
   ],
   "source": [
    "knn.predict(test_set, k=30)\n",
    "\n",
    "knn.rmse()\n",
    "knn.mae()"
   ]
  },
  {
   "cell_type": "markdown",
   "metadata": {},
   "source": [
    "### KNN with mean normalization from NicolasHug/Surprise"
   ]
  },
  {
   "cell_type": "code",
   "execution_count": 3,
   "metadata": {
    "scrolled": true
   },
   "outputs": [
    {
     "output_type": "stream",
     "name": "stdout",
     "text": [
      "Estimating biases using als...\n",
      "Computing the pearson_baseline similarity matrix...\n",
      "Done computing similarity matrix.\n",
      "RMSE: 0.8858\n",
      "MAE:  0.6799\n",
      "13.305283069610596\n"
     ]
    }
   ],
   "source": [
    "from surprise.prediction_algorithms.knns import KNNWithMeans, KNNBasic, KNNBaseline\n",
    "from surprise.prediction_algorithms import BaselineOnly\n",
    "from surprise import Dataset\n",
    "from surprise import Reader\n",
    "from surprise import accuracy\n",
    "\n",
    "import pandas as pd\n",
    "import time\n",
    "\n",
    "\n",
    "# train = pd.read_csv('../../data/rating_train.csv')\n",
    "# test = pd.read_csv('../../data/rating_test.csv')\n",
    "train = pd.read_csv('../movielens100k/rating_train.csv')\n",
    "test = pd.read_csv('../movielens100k/rating_test.csv')\n",
    "\n",
    "reader = Reader(rating_scale=(0.5,5))\n",
    "train_set = Dataset.load_from_df(train[['userId','movieId','rating']],reader=reader)\n",
    "test_set = Dataset.load_from_df(test[['userId','movieId','rating']],reader=reader)\n",
    "\n",
    "trainset = train_set.build_full_trainset()\n",
    "testset = test_set.build_full_trainset().build_testset()\n",
    "\n",
    "# Config for surprise similarity function\n",
    "sim_options = {\n",
    "    'name': 'pearson_baseline',\n",
    "    'user_based': False\n",
    "}\n",
    "\n",
    "t1 = time.time()\n",
    "\n",
    "algo = KNNBaseline(k=20, sim_options=sim_options)\n",
    "# algo = KNNWithMeans(k=20, sim_options=sim_options)\n",
    "# algo = BaselineOnly()\n",
    "algo.fit(trainset)\n",
    "\n",
    "predictions = algo.test(testset)\n",
    "accuracy.rmse(predictions)\n",
    "accuracy.mae(predictions)\n",
    "\n",
    "t2 = time.time()\n",
    "print(t2 - t1)"
   ]
  },
  {
   "cell_type": "code",
   "execution_count": 6,
   "metadata": {},
   "outputs": [
    {
     "output_type": "execute_result",
     "data": {
      "text/plain": [
       "[Prediction(uid=1, iid=32, r_ui=3.5, est=3.8329223910734926, details={'actual_k': 20, 'was_impossible': False}),\n",
       " Prediction(uid=1, iid=337, r_ui=3.5, est=3.761605869231817, details={'actual_k': 20, 'was_impossible': False}),\n",
       " Prediction(uid=1, iid=541, r_ui=4.0, est=4.10927366872051, details={'actual_k': 20, 'was_impossible': False}),\n",
       " Prediction(uid=1, iid=593, r_ui=3.5, est=4.152943429071827, details={'actual_k': 20, 'was_impossible': False}),\n",
       " Prediction(uid=1, iid=653, r_ui=3.0, est=3.5279103971753205, details={'actual_k': 20, 'was_impossible': False})]"
      ]
     },
     "metadata": {},
     "execution_count": 6
    }
   ],
   "source": [
    "predictions[:5]"
   ]
  },
  {
   "cell_type": "code",
   "execution_count": 7,
   "metadata": {},
   "outputs": [
    {
     "output_type": "execute_result",
     "data": {
      "text/plain": [
       "array([3.83292625, 3.76160869, 4.10927793, 4.15294811, 3.52791222])"
      ]
     },
     "metadata": {},
     "execution_count": 7
    }
   ],
   "source": [
    "knn.predictions[:5]"
   ]
  }
 ],
 "metadata": {
  "kernelspec": {
   "display_name": "Python 3 (ipykernel)",
   "language": "python",
   "name": "python3"
  },
  "language_info": {
   "codemirror_mode": {
    "name": "ipython",
    "version": 3
   },
   "file_extension": ".py",
   "mimetype": "text/x-python",
   "name": "python",
   "nbconvert_exporter": "python",
   "pygments_lexer": "ipython3",
   "version": "3.7.4-final"
  },
  "metadata": {
   "interpreter": {
    "hash": "f23968cc4c31a48a1c3523dea1ae7146a1276343ab4fd333c2e98f2978371b04"
   }
  }
 },
 "nbformat": 4,
 "nbformat_minor": 2
}