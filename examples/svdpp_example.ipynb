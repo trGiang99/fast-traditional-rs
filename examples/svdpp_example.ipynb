{
 "metadata": {
  "language_info": {
   "codemirror_mode": {
    "name": "ipython",
    "version": 3
   },
   "file_extension": ".py",
   "mimetype": "text/x-python",
   "name": "python",
   "nbconvert_exporter": "python",
   "pygments_lexer": "ipython3",
   "version": "3.7.4"
  },
  "orig_nbformat": 2,
  "kernelspec": {
   "name": "python3",
   "display_name": "Python 3.7.4 64-bit",
   "metadata": {
    "interpreter": {
     "hash": "21463fdfd04a8a485a54879021fcd21da1301dbfc4fefd04d0e18ba174845e58"
    }
   }
  }
 },
 "nbformat": 4,
 "nbformat_minor": 2,
 "cells": [
  {
   "cell_type": "code",
   "execution_count": 1,
   "metadata": {},
   "outputs": [],
   "source": [
    "import os\n",
    "import sys\n",
    "nb_dir = os.path.split(os.getcwd())[0]\n",
    "if nb_dir not in sys.path:\n",
    "    sys.path.append(nb_dir)"
   ]
  },
  {
   "source": [
    "### Reimlementation of SVDpp"
   ],
   "cell_type": "markdown",
   "metadata": {}
  },
  {
   "cell_type": "code",
   "execution_count": 2,
   "metadata": {},
   "outputs": [
    {
     "output_type": "stream",
     "name": "stdout",
     "text": [
      "Start training...\n",
      "Epoch 1/2  | train_loss: 0.98539 - val_loss: 0.91549 - val_rmse: 0.95681 - val_mae: 0.75593 - took 7.59 sec\n",
      "Epoch 2/2  | train_loss: 0.87783 - val_loss: 0.87569 - val_rmse: 0.93578 - val_mae: 0.73238 - took 4.72 sec\n",
      "Done.\n",
      "\n",
      "Training took 12 sec\n",
      "\n",
      "Test RMSE: 0.93578\n",
      "Test MAE: 0.73238\n"
     ]
    }
   ],
   "source": [
    "from math import sqrt\n",
    "from sklearn.metrics import mean_squared_error\n",
    "from sklearn.metrics import mean_absolute_error\n",
    "\n",
    "from utils import DataLoader\n",
    "from matrix_factorization import SVDpp\n",
    "\n",
    "# train_set, test_set = DataLoader(\"../../data\").load_csv2ndarray()\n",
    "train_set, test_set = DataLoader(\"../movielens100k\").load_csv2ndarray()\n",
    "\n",
    "nfactors = 40\n",
    "\n",
    "svdpp = SVDpp(\n",
    "    learning_rate=0.005,\n",
    "    regularization=0.02,\n",
    "    n_epochs=2, n_factors=nfactors,\n",
    "    min_rating=0.5, max_rating=5\n",
    ")\n",
    "\n",
    "svdpp.fit(\n",
    "    X=train_set,\n",
    "    X_val=test_set,\n",
    "    early_stopping=False, shuffle=False\n",
    ")\n",
    "\n",
    "pred = svdpp.predict(test_set)\n",
    "rmse = sqrt(mean_squared_error(test_set[:, 2], pred))\n",
    "mae = mean_absolute_error(test_set[:, 2], pred)\n",
    "\n",
    "print(f'\\nTest RMSE: {rmse:.5f}')\n",
    "print(f'Test MAE: {mae:.5f}')"
   ]
  },
  {
   "source": [
    "### SVDpp from NicolasHug/Surprise"
   ],
   "cell_type": "markdown",
   "metadata": {}
  },
  {
   "cell_type": "code",
   "execution_count": 3,
   "metadata": {},
   "outputs": [
    {
     "output_type": "stream",
     "name": "stdout",
     "text": [
      "RMSE: 0.9295\nMAE:  0.7246\n70.79212808609009\n"
     ]
    }
   ],
   "source": [
    "from surprise.prediction_algorithms import matrix_factorization\n",
    "from surprise import Dataset\n",
    "from surprise import Reader\n",
    "from surprise import accuracy\n",
    "\n",
    "import pandas as pd\n",
    "import time\n",
    "\n",
    "\n",
    "# train = pd.read_csv('../../data/rating_train.csv')\n",
    "# test = pd.read_csv('../../data/rating_test.csv')\n",
    "train = pd.read_csv('../movielens100k/rating_train.csv')\n",
    "test = pd.read_csv('../movielens100k/rating_test.csv')\n",
    "\n",
    "reader = Reader(rating_scale=(0.5,5))\n",
    "train_set = Dataset.load_from_df(train[['userId','movieId','rating']],reader=reader)\n",
    "test_set = Dataset.load_from_df(test[['userId','movieId','rating']],reader=reader)\n",
    "\n",
    "trainset = train_set.build_full_trainset()\n",
    "testset = test_set.build_full_trainset().build_testset()\n",
    "\n",
    "t1 = time.time()\n",
    "\n",
    "algo = matrix_factorization.SVDpp(n_factors=40, n_epochs=2)\n",
    "algo.fit(trainset)\n",
    "\n",
    "predictions = algo.test(testset)\n",
    "accuracy.rmse(predictions)\n",
    "accuracy.mae(predictions)\n",
    "\n",
    "t2 = time.time()\n",
    "print(t2 - t1)"
   ]
  }
 ]
}