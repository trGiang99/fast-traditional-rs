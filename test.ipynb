{
 "metadata": {
  "language_info": {
   "codemirror_mode": {
    "name": "ipython",
    "version": 3
   },
   "file_extension": ".py",
   "mimetype": "text/x-python",
   "name": "python",
   "nbconvert_exporter": "python",
   "pygments_lexer": "ipython3",
   "version": "3.7.4-final"
  },
  "orig_nbformat": 2,
  "kernelspec": {
   "name": "Python 3.7.4 64-bit ('env')",
   "display_name": "Python 3.7.4 64-bit ('env')",
   "metadata": {
    "interpreter": {
     "hash": "4482e17252d1f3afa8f66ce47c2f2d1da511a1748a6ccb977478df1d9a60683b"
    }
   }
  }
 },
 "nbformat": 4,
 "nbformat_minor": 2,
 "cells": [
  {
   "cell_type": "code",
   "execution_count": 1,
   "metadata": {
    "tags": []
   },
   "outputs": [
    {
     "output_type": "stream",
     "name": "stdout",
     "text": [
      "Loading data ...\n"
     ]
    }
   ],
   "source": [
    "import numpy as np\n",
    "from sklearn.metrics import mean_squared_error\n",
    "from sklearn.metrics import mean_absolute_error\n",
    "from math import sqrt\n",
    "\n",
    "from utils import DataLoader\n",
    "from svd import svdpp\n",
    "\n",
    "\n",
    "print(\"Loading data ...\")\n",
    "loader = DataLoader(\n",
    "    data_folder=\"movielens10k\",\n",
    "    genome_folder=\"movielens10k\"\n",
    ")\n",
    "train_data, test_data = loader.load_csv2df(use_val=False)\n",
    "movie_genome = loader.load_genome_fromcsv()"
   ]
  },
  {
   "cell_type": "code",
   "execution_count": 4,
   "metadata": {},
   "outputs": [
    {
     "output_type": "stream",
     "name": "stdout",
     "text": [
      "\n",
      "Preprocessing data...\n",
      "Start training...\n",
      "Epoch 1/10  | train_loss: 1.1293 - took 4.87 sec\n",
      "Epoch 2/10  | train_loss: 0.8202 - took 4.84 sec\n",
      "Epoch 3/10  | train_loss: 0.6887 - took 4.83 sec\n",
      "Epoch 4/10  | train_loss: 0.6078 - took 4.83 sec\n",
      "Epoch 5/10  | train_loss: 0.5508 - took 4.85 sec\n",
      "Epoch 6/10  | train_loss: 0.5074 - took 4.85 sec\n",
      "Epoch 7/10  | train_loss: 0.4730 - took 4.89 sec\n",
      "Epoch 8/10  | train_loss: 0.4446 - took 4.89 sec\n",
      "Epoch 9/10  | train_loss: 0.4207 - took 4.89 sec\n",
      "Epoch 10/10 | train_loss: 0.4001 - took 4.88 sec\n",
      "Done.\n",
      "\n",
      "Training took 50 sec\n"
     ]
    },
    {
     "output_type": "execute_result",
     "data": {
      "text/plain": [
       "<svd.svdpp.svdpp at 0x2a0d8f8b088>"
      ]
     },
     "metadata": {},
     "execution_count": 4
    }
   ],
   "source": [
    "nfactors = 1128\n",
    "model = svdpp(\n",
    "    learning_rate=0.005,\n",
    "    lr_qi=0.005/15,\n",
    "    regularization=0.02,\n",
    "    n_epochs=10, n_factors=nfactors,\n",
    "    min_rating=0.5, max_rating=5\n",
    ")\n",
    "model.fit(X=train_data, i_factor=movie_genome)"
   ]
  },
  {
   "cell_type": "code",
   "execution_count": 5,
   "metadata": {},
   "outputs": [
    {
     "output_type": "stream",
     "name": "stdout",
     "text": [
      "\nTest RMSE: 0.94800\nTest MAE: 0.73475\n"
     ]
    }
   ],
   "source": [
    "pred = model.predict(test_data)\n",
    "rmse = sqrt(mean_squared_error(test_data[\"rating\"], pred))\n",
    "mae = mean_absolute_error(test_data['rating'], pred)\n",
    "\n",
    "print(f'\\nTest RMSE: {rmse:.5f}')\n",
    "print(f'Test MAE: {mae:.5f}')"
   ]
  },
  {
   "cell_type": "code",
   "execution_count": null,
   "metadata": {},
   "outputs": [],
   "source": [
    "model.save_checkpoint(\"checkpoint.pkl\")"
   ]
  },
  {
   "cell_type": "code",
   "execution_count": 11,
   "metadata": {
    "tags": []
   },
   "outputs": [
    {
     "output_type": "stream",
     "name": "stdout",
     "text": [
      "50\n"
     ]
    }
   ],
   "source": [
    "I = model.I[1]\n",
    "I = I[I>=0]\n",
    "print(I.shape[0])"
   ]
  },
  {
   "cell_type": "code",
   "execution_count": 10,
   "metadata": {},
   "outputs": [
    {
     "output_type": "execute_result",
     "data": {
      "text/plain": [
       "91"
      ]
     },
     "metadata": {},
     "execution_count": 10
    }
   ],
   "source": [
    "np.unique(model.X[:,0]).shape[0]"
   ]
  },
  {
   "cell_type": "code",
   "execution_count": null,
   "metadata": {},
   "outputs": [],
   "source": []
  }
 ]
}